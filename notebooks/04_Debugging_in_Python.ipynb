{
 "cells": [
  {
   "cell_type": "markdown",
   "metadata": {},
   "source": [
    "# Debugging in Python\n",
    "\n",
    "There are a few ways that debugging is typically done in python.\n",
    "- print statements\n",
    "- logging\n",
    "- pdb"
   ]
  },
  {
   "cell_type": "markdown",
   "metadata": {},
   "source": [
    "## Print Statements\n",
    "\n",
    "Print statements are the simplest method of debugging and work OK for debugging when the code is simple or there are few variable that need to be checked."
   ]
  },
  {
   "cell_type": "code",
   "execution_count": null,
   "metadata": {},
   "outputs": [],
   "source": []
  },
  {
   "cell_type": "markdown",
   "metadata": {},
   "source": [
    "Problems do start to arise when there are multiple functions and variables that need to checked. Adding print statements for multiple variables can become messy and to stop printing the output you need to manually go through the code and comment them out or delete them, hoping that you don't need them again later for more debugging."
   ]
  },
  {
   "cell_type": "markdown",
   "metadata": {},
   "source": [
    "## Logging\n",
    "\n",
    "The logging module addresses some of these challenges by allowing you to specify levels for when you want the printing. This allows for these \"print\" statements to be turned on or off depending on the type of output you want."
   ]
  },
  {
   "cell_type": "code",
   "execution_count": null,
   "metadata": {},
   "outputs": [],
   "source": []
  },
  {
   "cell_type": "markdown",
   "metadata": {},
   "source": [
    "## Logging with RotatingFileHandler\n",
    "\n",
    "The logging discussion is taken from the [Python Logging Cookbook](https://docs.python.org/2/howto/logging-cookbook.html#using-file-rotation):\n",
    "\n",
    "Sometimes you want to let a log file grow to a certain size, then open a new file and log to that. You may want to keep a certain number of these files, and when that many files have been created, rotate the files so that the number of files and the size of the files both remain bounded. For this usage pattern, the logging package provides a RotatingFileHandler.\n",
    "\n",
    "The most current file is always logging_rotatingfile_example.out, and each time it reaches the size limit it is renamed with the suffix .1. Each of the existing backup files is renamed to increment the suffix (.1 becomes .2, etc.) and the .6 file is erased.\n",
    "\n",
    "The following code snippet is taken from [here](http://www.blog.pythonlibrary.org/2014/02/11/python-how-to-create-rotating-logs/).\n",
    "\n",
    "import logging\n",
    "import time\n",
    " \n",
    "from logging.handlers import RotatingFileHandler\n",
    " \n",
    "#----------------------------------------------------------------------\n",
    "def create_rotating_log(path):\n",
    "    \"\"\"\n",
    "    Creates a rotating log\n",
    "    \"\"\"\n",
    "    logger = logging.getLogger(\"Rotating Log\")\n",
    "    logger.setLevel(logging.INFO)\n",
    " \n",
    "    # add a rotating handler\n",
    "    handler = RotatingFileHandler(path, maxBytes=20,\n",
    "                                  backupCount=5)\n",
    "    logger.addHandler(handler)\n",
    " \n",
    "    for i in range(10):\n",
    "        logger.info(\"This is test log line %s\" % i)\n",
    "        time.sleep(1.5)\n",
    " \n",
    "#----------------------------------------------------------------------\n",
    "if __name__ == \"__main__\":\n",
    "    log_file = \"test.log\"\n",
    "    create_rotating_log(log_file)\n",
    "\n",
    "## Logging with TimedRotatingFileHandler\n",
    "\n",
    "The following code snippet is taken from [here](http://www.blog.pythonlibrary.org/2014/02/11/python-how-to-create-rotating-logs/).\n",
    "\n",
    "import logging\n",
    "import time\n",
    " \n",
    "from logging.handlers import TimedRotatingFileHandler\n",
    " \n",
    "#----------------------------------------------------------------------\n",
    "def create_timed_rotating_log(path):\n",
    "    \"\"\"\"\"\"\n",
    "    logger = logging.getLogger(\"Rotating Log\")\n",
    "    logger.setLevel(logging.INFO)\n",
    " \n",
    "    # Rotate log based on when parameter:\n",
    "    # second (s)\n",
    "    # minute (m)\n",
    "    # hour (h)\n",
    "    # day (d)\n",
    "    # w0-w6 (weekday, 0=Monday)\n",
    "    # midnight\n",
    "    handler = TimedRotatingFileHandler(path,\n",
    "                                       when=\"m\",\n",
    "                                       interval=1,\n",
    "                                       backupCount=5)\n",
    "    logger.addHandler(handler)\n",
    " \n",
    "    for i in range(20):\n",
    "        logger.info(\"This is a test!\")\n",
    "        time.sleep(1.5)\n",
    " \n",
    "#----------------------------------------------------------------------\n",
    "if __name__ == \"__main__\":\n",
    "    log_file = \"timed_test.log\"\n",
    "    create_timed_rotating_log(log_file)"
   ]
  },
  {
   "cell_type": "markdown",
   "metadata": {},
   "source": [
    "## PDB\n",
    "\n",
    "The pdb module defines an interactive source code debugger for Python programs.  Below are frequently used commands:"
   ]
  },
  {
   "cell_type": "code",
   "execution_count": null,
   "metadata": {},
   "outputs": [],
   "source": [
    "# Run pdb when this line is hit\n",
    "import pdb; pdb.set_trace()\n",
    "\n",
    "# Run pdb when the script is run\n",
    "python -m pdb script.py\n",
    "\n",
    "# Help\n",
    "h[elp]\n",
    "\n",
    "# Show current content\n",
    "l[ist]\n",
    "\n",
    "# Examine variables\n",
    "p[rint]\n",
    "\n",
    "# Pretty print\n",
    "pp\n",
    "\n",
    "# Go to next line\n",
    "n[ext]\n",
    "\n",
    "# Step into\n",
    "s[tep]\n",
    "\n",
    "# Continue execution until the line with the line number greater \n",
    "# than the current one is reached or when returning from current frame.\n",
    "until\n",
    "\n",
    "# Return\n",
    "r[eturn]\n",
    "\n",
    "# See all breakpoints\n",
    "b to see all breakpoints\n",
    "\n",
    "# Set breakpoint at line 16\n",
    "b 16 \n",
    "\n",
    "# Clear breakpoint 1\n",
    "cl[ear] 1\n",
    "\n",
    "# Continue\n",
    "c[ontinue]\n",
    "\n",
    "# Conditional breakpoints, line 11\n",
    "b 11, this_year == 2015\n",
    "\n",
    "# Stack location\n",
    "w[here]\n",
    "\n",
    "# Go up in stack\n",
    "u[p]\n",
    "\n",
    "# Go down in stack\n",
    "d[own]\n",
    "\n",
    "# Longlist shows full method of where you're in (Python 3)\n",
    "ll\n",
    "\n",
    "# Quit\n",
    "q[uit]"
   ]
  },
  {
   "cell_type": "markdown",
   "metadata": {},
   "source": [
    "## Not Debugging, But Can Prevent Bugs\n",
    "\n",
    "I'll just briefly introduce two concepts that can be used when writing code that can help to prevent future bugs or give clear instructions on where the errors are occurring.\n",
    "\n",
    "* Assert and Raise\n",
    "* Unit Tests"
   ]
  },
  {
   "cell_type": "code",
   "execution_count": null,
   "metadata": {},
   "outputs": [],
   "source": []
  }
 ],
 "metadata": {
  "kernelspec": {
   "display_name": "Python 3",
   "language": "python",
   "name": "python3"
  },
  "language_info": {
   "codemirror_mode": {
    "name": "ipython",
    "version": 3
   },
   "file_extension": ".py",
   "mimetype": "text/x-python",
   "name": "python",
   "nbconvert_exporter": "python",
   "pygments_lexer": "ipython3",
   "version": "3.7.1"
  }
 },
 "nbformat": 4,
 "nbformat_minor": 1
}
